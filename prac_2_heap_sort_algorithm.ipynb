{
  "nbformat": 4,
  "nbformat_minor": 0,
  "metadata": {
    "colab": {
      "provenance": []
    },
    "kernelspec": {
      "name": "python3",
      "display_name": "Python 3"
    },
    "language_info": {
      "name": "python"
    }
  },
  "cells": [
    {
      "cell_type": "code",
      "execution_count": 3,
      "metadata": {
        "colab": {
          "base_uri": "https://localhost:8080/"
        },
        "id": "X8vxoU2Ltnx9",
        "outputId": "e5417c8f-bd5e-4130-93b1-8403aee45451"
      },
      "outputs": [
        {
          "output_type": "stream",
          "name": "stdout",
          "text": [
            "Sorted array using Heap Sort Algorithm is\n",
            "5\n",
            "6\n",
            "7\n",
            "11\n",
            "12\n",
            "13\n"
          ]
        }
      ],
      "source": [
        "# To heapify subtree rooted at index i.\n",
        "# n is size of heap\n",
        "\n",
        "def heapify(arr, n, i):\n",
        "    largest = i   # Initialize largest as root\n",
        "    l = 2 * i + 1 # left = 2*i + 1\n",
        "    r = 2 * i + 2 # right = 2*i + 2\n",
        "# See if left child of root exists and is greater than root\n",
        "    if l < n and arr[i] < arr[l]:\n",
        "        largest = l\n",
        "    # See if right child of root exists and is greater than root\n",
        "    if r < n and arr[largest] < arr[r]:\n",
        "        largest = r\n",
        "    # Change root, if needed\n",
        "    if largest != i:\n",
        "        (arr[i], arr[largest]) = (arr[largest], arr[i]) #swap\n",
        "        heapify(arr, n, largest)#Heapify the root.\n",
        "\n",
        "# The main function to sort an array of given size\n",
        "def heapSort(arr):\n",
        "    n = len(arr)\n",
        "    # Build a maxheap.\n",
        "    # Since last parent will be at ((n//2)-1) we can start at that location.\n",
        "    for i in range(n // 2 - 1, -1, -1):\n",
        "        heapify(arr, n, i)\n",
        "        # One by one extract elements\n",
        "    for i in range(n - 1, 0, -1):\n",
        "        (arr[i], arr[0]) = (arr[0], arr[i]) # swap\n",
        "        heapify(arr, i, 0)\n",
        "\n",
        "# Driver code to test above\n",
        "arr = [12, 11, 13, 5, 6, 7, ]\n",
        "heapSort(arr)\n",
        "n = len(arr)\n",
        "print('Sorted array using Heap Sort Algorithm is')\n",
        "for i in range(n):\n",
        "    print(arr[i])"
      ]
    }
  ]
}