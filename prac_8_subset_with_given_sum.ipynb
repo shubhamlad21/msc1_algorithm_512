{
  "nbformat": 4,
  "nbformat_minor": 0,
  "metadata": {
    "colab": {
      "provenance": []
    },
    "kernelspec": {
      "name": "python3",
      "display_name": "Python 3"
    },
    "language_info": {
      "name": "python"
    }
  },
  "cells": [
    {
      "cell_type": "code",
      "execution_count": 5,
      "metadata": {
        "colab": {
          "base_uri": "https://localhost:8080/"
        },
        "id": "X8vxoU2Ltnx9",
        "outputId": "9638b83f-5b68-4326-99a4-1be8f90059ea"
      },
      "outputs": [
        {
          "output_type": "stream",
          "name": "stdout",
          "text": [
            "Found a subset with given sum\n"
          ]
        }
      ],
      "source": [
        "# A recursive solution for subset sum problem \n",
        "  \n",
        "# Returns true if there is a subset  \n",
        "# of set[] with sun equal to given sum \n",
        "def isSubsetSum(set,n, sum) : \n",
        "    \n",
        "    # Base Cases \n",
        "    if (sum == 0) : \n",
        "        return True\n",
        "    if (n == 0 and sum != 0) : \n",
        "        return False\n",
        "   \n",
        "    # If last element is greater than \n",
        "    # sum, then ignore it \n",
        "    if (set[n - 1] > sum) : \n",
        "        return isSubsetSum(set, n - 1, sum); \n",
        "   \n",
        "    # else, check if sum can be obtained \n",
        "    # by any of the following \n",
        "    # (a) including the last element \n",
        "    # (b) excluding the last element    \n",
        "    return isSubsetSum(set, n-1, sum) or isSubsetSum(set, n-1, sum-set[n-1]) \n",
        "      \n",
        "      \n",
        "# Driver program to test above function \n",
        "set = [3, 34, 4, 12, 5, 2] \n",
        "sum = 9\n",
        "n = len(set) \n",
        "if (isSubsetSum(set, n, sum) == True) : \n",
        "    print(\"Found a subset with given sum\") \n",
        "else : \n",
        "    print(\"No subset with given sum\") "
      ]
    }
  ]
}