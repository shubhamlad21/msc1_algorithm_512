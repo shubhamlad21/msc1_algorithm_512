{
  "nbformat": 4,
  "nbformat_minor": 0,
  "metadata": {
    "colab": {
      "provenance": []
    },
    "kernelspec": {
      "name": "python3",
      "display_name": "Python 3"
    },
    "language_info": {
      "name": "python"
    }
  },
  "cells": [
    {
      "cell_type": "code",
      "execution_count": 10,
      "metadata": {
        "colab": {
          "base_uri": "https://localhost:8080/"
        },
        "id": "X8vxoU2Ltnx9",
        "outputId": "6306e71d-84ad-4e80-fddc-b99f03270225"
      },
      "outputs": [
        {
          "output_type": "stream",
          "name": "stdout",
          "text": [
            "Sorted Array using Bucket Sort is\n",
            "[0.1234, 0.3434, 0.565, 0.656, 0.665, 0.897]\n"
          ]
        }
      ],
      "source": [
        "# Python3 program to sort an array  \n",
        "# using bucket sort  \n",
        "def insertionSort(b): \n",
        "    for i in range(1, len(b)): \n",
        "        up = b[i] \n",
        "        j = i - 1\n",
        "        while j >=0 and b[j] > up:  \n",
        "            b[j + 1] = b[j] \n",
        "            j -= 1\n",
        "        b[j + 1] = up     \n",
        "    return b      \n",
        "              \n",
        "def bucketSort(x): \n",
        "    arr = [] \n",
        "    slot_num = 10 # 10 means 10 slots, each \n",
        "                  # slot's size is 0.1 \n",
        "    for i in range(slot_num): \n",
        "        arr.append([]) \n",
        "          \n",
        "    # Put array elements in different buckets  \n",
        "    for j in x: \n",
        "        index_b = int(slot_num * j)  \n",
        "        arr[index_b].append(j) \n",
        "      \n",
        "    # Sort individual buckets  \n",
        "    for i in range(slot_num): \n",
        "        arr[i] = insertionSort(arr[i]) \n",
        "          \n",
        "    # concatenate the result \n",
        "    k = 0\n",
        "    for i in range(slot_num): \n",
        "        for j in range(len(arr[i])): \n",
        "            x[k] = arr[i][j] \n",
        "            k += 1\n",
        "    return x \n",
        "  \n",
        "# Driver Code \n",
        "x = [0.897, 0.565, 0.656, \n",
        "     0.1234, 0.665, 0.3434]  \n",
        "print(\"Sorted Array using Bucket Sort is\") \n",
        "print(bucketSort(x)) "
      ]
    }
  ]
}