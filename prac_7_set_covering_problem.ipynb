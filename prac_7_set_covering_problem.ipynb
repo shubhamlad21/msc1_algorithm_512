{
  "nbformat": 4,
  "nbformat_minor": 0,
  "metadata": {
    "colab": {
      "provenance": []
    },
    "kernelspec": {
      "name": "python3",
      "display_name": "Python 3"
    },
    "language_info": {
      "name": "python"
    }
  },
  "cells": [
    {
      "cell_type": "code",
      "execution_count": 4,
      "metadata": {
        "colab": {
          "base_uri": "https://localhost:8080/"
        },
        "id": "X8vxoU2Ltnx9",
        "outputId": "7e6c7ec5-a1c2-4aa3-8f3c-8b5e9b34ebcd"
      },
      "outputs": [
        {
          "output_type": "stream",
          "name": "stdout",
          "text": [
            "[{1, 2, 3, 8, 9, 10}, {4, 5, 7}, {5, 6, 7}]\n"
          ]
        }
      ],
      "source": [
        "def set_cover(universe, subsets):\n",
        "    \"\"\"Find a family of subsets that covers the universal set\"\"\"\n",
        "    elements = set(e for s in subsets for e in s)\n",
        "    # Check the subsets cover the universe\n",
        "    if elements != universe:\n",
        "        return None\n",
        "    covered = set()\n",
        "    cover = []\n",
        "    # Greedily add the subsets with the most uncovered points\n",
        "    while covered != elements:\n",
        "        subset = max(subsets, key=lambda s: len(s - covered))\n",
        "        cover.append(subset)\n",
        "        covered |= subset\n",
        " \n",
        "    return cover\n",
        " \n",
        "def main():\n",
        "    universe = set(range(1, 11))\n",
        "    subsets = [set([1, 2, 3, 8, 9, 10]),\n",
        "        set([1, 2, 3, 4, 5]),\n",
        "        set([4, 5, 7]),\n",
        "        set([5, 6, 7]),\n",
        "        set([6, 7, 8, 9, 10])]\n",
        "    cover = set_cover(universe, subsets)\n",
        "    print(cover)\n",
        " \n",
        "if __name__ == '__main__':\n",
        "    main()"
      ]
    }
  ]
}