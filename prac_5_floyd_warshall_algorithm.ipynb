{
  "nbformat": 4,
  "nbformat_minor": 0,
  "metadata": {
    "colab": {
      "provenance": []
    },
    "kernelspec": {
      "name": "python3",
      "display_name": "Python 3"
    },
    "language_info": {
      "name": "python"
    }
  },
  "cells": [
    {
      "cell_type": "code",
      "execution_count": null,
      "metadata": {
        "id": "X8vxoU2Ltnx9"
      },
      "outputs": [],
      "source": [
        "# Floyd-Warshall Algorithm\n",
        "# Number of vertices in the graph \n",
        "v = 4\n",
        "# Define infinity as the large enough value. This value will be \n",
        "# used for vertices not connected to each other \n",
        "INF = 99999\n",
        "# Solves all pair shortest path via Floyd Warshall Algorithm \n",
        "def floydWarshall(graph):\n",
        "#dist[][] will be the output matrix that will finally have the shortest distances between every pair of vertices\n",
        "#initializing the solution matrix same as input graph matrix \n",
        "#OR we can say that the initial values of shortest distances \n",
        "#are based on shortest paths considering no\n",
        "#intermediate vertices\n",
        "    dist = list(map(lambda i: list(map(lambda j:j, i)) ,graph))\n",
        "#Add all vertices one by one to the set of intermediate \n",
        "#vertices. \n",
        "#---> Before start of an iteration, we have shortest distances \n",
        "#between all pairs of vertices such that the shortest \n",
        "#distances consider only the vertices in the set\n",
        "#{0, 1, 2, .. k-1} as intermediate vertices. \n",
        "#----> After the end of a iteration, vertex no. k is \n",
        "#added to the set of intermediate vertices and the\n",
        "#set becomes {0, 1, 2, .. k} \n",
        "    for k in range(v):\n",
        "      #pick all vertices as source one by one \n",
        "        for i in range(v):\n",
        "          #Pick all vertices as destination for the above picked source \n",
        "            for j in range(v):\n",
        "              #If vertex k is on the shortest path from i to j, then update the value of dist[i][j]\n",
        "                dist[i][j] = min(dist[i][j] , dist[i][k]+dist[k][j])\n",
        "    printSolution(dist)\n",
        "#A utility function to print the solution \n",
        "def printSolution(dist):\n",
        "    print(\"Following matrix shows the shortest distances between every pair of vertices\")\n",
        "    for i in range(v):\n",
        "        for j in range(v):\n",
        "            if(dist[i][j] == INF):\n",
        "                print('%7s' %(\"INF\"),)\n",
        "            else:\n",
        "                print('%7d\\t' %(dist[i][j]),)\n",
        "            if j == v-1:\n",
        "                print(\" \")\n",
        "# Driver program to test the above program \n",
        "# Let us create the following weighted graph \n",
        "\"\"\" \n",
        "      10 \n",
        "(0)------->(3) \n",
        "  |        /|\\\n",
        "5 |         | \n",
        "  |         | 1 \n",
        "  \\|/       | \n",
        "(1)------->(2) \n",
        "      3 \n",
        "\"\"\"\n",
        "\n",
        "graph = [[0,5,INF,10],\n",
        "         [INF,0,3,INF],\n",
        "         [INF, INF, 0, 1],\n",
        "         [INF, INF, INF, 0]\n",
        "         ]\n",
        "#Print the solution \n",
        "floydWarshall(graph);"
      ]
    }
  ]
}